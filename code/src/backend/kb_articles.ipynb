{
 "cells": [
  {
   "cell_type": "code",
   "execution_count": 22,
   "metadata": {},
   "outputs": [],
   "source": [
    "\n",
    "import torch\n",
    "import numpy as np\n",
    "from transformers import AutoTokenizer, AutoModel\n",
    "import faiss\n",
    "import numpy as np\n"
   ]
  },
  {
   "cell_type": "code",
   "execution_count": 23,
   "metadata": {},
   "outputs": [
    {
     "name": "stdout",
     "output_type": "stream",
     "text": [
      "Using device: mps\n"
     ]
    }
   ],
   "source": [
    "device = torch.device(\"mps\") if torch.backends.mps.is_available() else \"cpu\"\n",
    "print(f\"Using device: {device}\")\n"
   ]
  },
  {
   "cell_type": "code",
   "execution_count": 24,
   "metadata": {},
   "outputs": [],
   "source": [
    "# Load E5 model and tokenizer\n",
    "model_name = \"intfloat/e5-base-v2\"\n",
    "tokenizer = AutoTokenizer.from_pretrained(model_name)\n",
    "model = AutoModel.from_pretrained(model_name).to(device)\n"
   ]
  },
  {
   "cell_type": "code",
   "execution_count": 25,
   "metadata": {},
   "outputs": [],
   "source": [
    "# Function to generate embeddings\n",
    "def get_embedding(text):\n",
    "    \"\"\"Generate dense vector for input text.\"\"\"\n",
    "    inputs = tokenizer(text, return_tensors=\"pt\", padding=True, truncation=True).to(device)\n",
    "    with torch.no_grad():\n",
    "        outputs = model(**inputs)\n",
    "    return outputs.last_hidden_state[:, 0, :].cpu().numpy()  # Move back to CPU for FAISS\n"
   ]
  },
  {
   "cell_type": "code",
   "execution_count": 26,
   "metadata": {},
   "outputs": [
    {
     "name": "stdout",
     "output_type": "stream",
     "text": [
      "Document: I love BGE | Similarity Score: 0.0140\n",
      "Document: I love animals is a joke | Similarity Score: 0.0090\n"
     ]
    }
   ],
   "source": [
    "# Sample IT logs\n",
    "# documents = [\n",
    "#     \"passage: Server crashed due to high memory usage.\",\n",
    "#     \"passage: Network outage detected in data center.\",\n",
    "#     \"passage: Disk failure reported on node 7.\",\n",
    "#     \"passage: Application error after software update.\"\n",
    "# ]\n",
    "queries = [\"I love dogs\"]\n",
    "documents = [\"I love BGE\", \"I love animals is a joke\"]\n",
    "\n",
    "# Convert documents to embeddings\n",
    "doc_embeddings = np.array([get_embedding(doc) for doc in documents])\n",
    "\n",
    "# 🔥 Fix: Ensure correct shape (num_docs, embedding_dim)\n",
    "doc_embeddings = np.asarray(doc_embeddings, dtype=\"float32\").reshape(len(documents), -1)\n",
    "\n",
    "# Build FAISS index\n",
    "index = faiss.IndexFlatL2(doc_embeddings.shape[1])  # L2 distance\n",
    "index.add(doc_embeddings)\n",
    "\n",
    "# Search function with similarity scores\n",
    "def search(query, top_k=2):\n",
    "    query_embedding = np.array([get_embedding(f\"query: {query}\")]).astype(\"float32\")\n",
    "    query_embedding = query_embedding.reshape(1, -1)  # Ensure correct shape\n",
    "\n",
    "    distances, indices = index.search(query_embedding, top_k)\n",
    "\n",
    "    # Convert distances to similarity scores\n",
    "    similarity_scores = 1 / (1 + distances)\n",
    "\n",
    "    results = [(documents[i], similarity_scores[0][rank]) for rank, i in enumerate(indices[0])]\n",
    "    return results\n",
    "\n",
    "# Test retrieval\n",
    "query = \"I love dogs\"\n",
    "results = search(query)\n",
    "\n",
    "# Print results with similarity scores\n",
    "for doc, score in results:\n",
    "    print(f\"Document: {doc} | Similarity Score: {score:.4f}\")\n"
   ]
  },
  {
   "cell_type": "code",
   "execution_count": 27,
   "metadata": {},
   "outputs": [
    {
     "name": "stdout",
     "output_type": "stream",
     "text": [
      "Document: passage: The server crashed because of a memory leak. The application logs showed increased RAM usage over time... | Similarity Score: 0.0202\n",
      "Document: passage: A major network outage was reported in the data center due to a misconfigured router... | Similarity Score: 0.0141\n",
      "Document: passage: Disk failure was detected on node 7, causing application errors in the database... | Similarity Score: 0.0139\n"
     ]
    }
   ],
   "source": [
    "\n",
    "\n",
    "def get_embedding(text):\n",
    "    \"\"\"Generate embeddings using mean pooling instead of CLS token.\"\"\"\n",
    "    inputs = tokenizer(text, return_tensors=\"pt\", padding=True, truncation=True, max_length=512).to(device)\n",
    "    with torch.no_grad():\n",
    "        outputs = model(**inputs)\n",
    "    \n",
    "    # Mean pooling (better for long passages)\n",
    "    attention_mask = inputs['attention_mask']\n",
    "    token_embeddings = outputs.last_hidden_state  # Shape: (batch, seq_len, hidden_dim)\n",
    "    mask_expanded = attention_mask.unsqueeze(-1).expand(token_embeddings.shape)\n",
    "    \n",
    "    sum_embeddings = torch.sum(token_embeddings * mask_expanded, dim=1)\n",
    "    sum_mask = mask_expanded.sum(dim=1)\n",
    "    embedding = sum_embeddings / sum_mask  # Mean pooling\n",
    "    return embedding.cpu().numpy()\n",
    "\n",
    "def chunk_text(text, max_tokens=512, overlap=50):\n",
    "    \"\"\"Splits a long passage into overlapping chunks for better embeddings.\"\"\"\n",
    "    tokens = tokenizer.tokenize(text)\n",
    "    chunks = []\n",
    "    \n",
    "    for i in range(0, len(tokens), max_tokens - overlap):\n",
    "        chunk = tokens[i : i + max_tokens]\n",
    "        chunks.append(tokenizer.convert_tokens_to_string(chunk))\n",
    "    \n",
    "    return chunks\n",
    "import faiss\n",
    "\n",
    "# Sample IT logs (Long Texts)\n",
    "documents = [\n",
    "    \"passage: The server crashed because of a memory leak. The application logs showed increased RAM usage over time...\",\n",
    "    \"passage: A major network outage was reported in the data center due to a misconfigured router...\",\n",
    "    \"passage: Disk failure was detected on node 7, causing application errors in the database...\",\n",
    "    \"passage: After the latest software update, several applications failed due to dependency issues...\"\n",
    "]\n",
    "\n",
    "# Process and embed document chunks\n",
    "all_chunks = []\n",
    "chunk_doc_map = {}  # Map chunk index to original document\n",
    "\n",
    "for i, doc in enumerate(documents):\n",
    "    chunks = chunk_text(doc)\n",
    "    for chunk in chunks:\n",
    "        all_chunks.append(chunk)\n",
    "        chunk_doc_map[len(all_chunks) - 1] = documents[i]  # Store original doc index\n",
    "\n",
    "# Convert all chunks to embeddings\n",
    "doc_embeddings = np.array([get_embedding(chunk) for chunk in all_chunks], dtype=\"float32\")\n",
    "doc_embeddings = doc_embeddings.reshape(len(all_chunks), -1)  # Ensure 2D shape\n",
    "\n",
    "# Build FAISS index\n",
    "index = faiss.IndexFlatL2(doc_embeddings.shape[1])\n",
    "index.add(doc_embeddings)\n",
    "\n",
    "# Search function with similarity scores\n",
    "def search(query, top_k=3):\n",
    "    query_embedding = np.array([get_embedding(f\"query: {query}\")]).astype(\"float32\").reshape(1, -1)\n",
    "    distances, indices = index.search(query_embedding, top_k)\n",
    "    \n",
    "    # Convert L2 distance to similarity scores\n",
    "    similarity_scores = 1 / (1 + distances)\n",
    "    \n",
    "    results = [(chunk_doc_map[i], similarity_scores[0][rank]) for rank, i in enumerate(indices[0])]\n",
    "    return results\n",
    "\n",
    "# Test retrieval\n",
    "query = \"memory issue caused server crash\"\n",
    "results = search(query)\n",
    "\n",
    "# Print results\n",
    "for doc, score in results:\n",
    "    print(f\"Document: {doc} | Similarity Score: {score:.4f}\")\n"
   ]
  },
  {
   "cell_type": "code",
   "execution_count": null,
   "metadata": {},
   "outputs": [],
   "source": []
  }
 ],
 "metadata": {
  "kernelspec": {
   "display_name": "py311",
   "language": "python",
   "name": "python3"
  },
  "language_info": {
   "codemirror_mode": {
    "name": "ipython",
    "version": 3
   },
   "file_extension": ".py",
   "mimetype": "text/x-python",
   "name": "python",
   "nbconvert_exporter": "python",
   "pygments_lexer": "ipython3",
   "version": "3.11.11"
  }
 },
 "nbformat": 4,
 "nbformat_minor": 2
}
